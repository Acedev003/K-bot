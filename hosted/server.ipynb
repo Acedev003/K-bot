{
  "nbformat": 4,
  "nbformat_minor": 0,
  "metadata": {
    "colab": {
      "name": "SERVER.ipynb",
      "provenance": [],
      "collapsed_sections": []
    },
    "kernelspec": {
      "name": "python3",
      "display_name": "Python 3"
    },
    "language_info": {
      "name": "python"
    }
  },
  "cells": [
    {
      "cell_type": "markdown",
      "metadata": {
        "id": "vv_a4ElQPfcr"
      },
      "source": [
        "#Server\n",
        "\n",
        "This colab notebook contains the code needed to run the models (student and general) as well as the authentication server required for the Kbot application. \n",
        "\n",
        "Services used are :\n",
        "\n",
        "1. [RASA](https://rasa.com/docs/rasa)\n",
        "2. [BottlePy](https://bottlepy.org/docs/dev/)\n",
        "3. [Ngrok](https://ngrok.com/docs)\n",
        "\n",
        "<br>\n",
        "\n",
        "For ease of use with google colab the files are placed in a google drive folder.\n",
        "\n",
        "<pre>\n",
        "drive/MyDrive/.../.../ K-BOT/\n",
        "└── Demo1\n",
        "    ├── models\n",
        "    │   ├── general.gz\n",
        "    │   └── students.gz\n",
        "    ├── ngrok.yml\n",
        "    ├── ngrok.json\n",
        "    ├── server.py \n",
        "    ├── guests.db\n",
        "    └── sqlite.db  \n",
        "</pre>\n",
        "<center>Required Files</center>\n",
        "<br>\n",
        "\n",
        "<pre>\n",
        "- Demo1      : Root folder\n",
        "\n",
        "- models     : Contains the students.gz and general.gz files which are the trained<br>               models used by the rasa server. [R]\n",
        "\n",
        "- sqlite.db  : sqlite database to authenticate students logging into the application \n",
        "               Contains fields (id TEXT , password TEXT) [R]\n",
        "\n",
        "- guests.db  : sqlite database to keep track of non-student users logging in. \n",
        "               Contains fields (name TEXT,phone TEXT,logtime TIMESTAMP) [R]\n",
        "\n",
        "- ngrok.yml  : config files for ngrok\n",
        "\n",
        "- ngrok.json : holds ngrok generated urls for each port \n",
        "\n",
        "- server.py  : python server code to authenticate students\n",
        "\n",
        "- [R]: Required files   \n",
        "</pre>\n",
        "\n",
        "<br>\n",
        "\n",
        "The K-Bot app calls a master json file (In this case hosted on a repository in Github) which contains the sub urls (ngrok) to the auth server and the rasa server for each model. Running the cells in this notebook should update the sub-urls in the master url automatically\n",
        "\n",
        "<pre>\n",
        "{\n",
        "   \"url1\": \"https://example0.ngrok.io\",\n",
        "   \"url2\": \"https://example1.ngrok.io\",\n",
        "   \"url3\": \"https://example2.ngrok.io\"\n",
        "}\n",
        "</pre>\n",
        "<center>Sample structure of master json file</center>\n",
        "<br><br>\n",
        "To be noted that in the above shown json url1 and url2 stands for the url of the general and students model respectively whereas url3 is the link used to authenticate students. url3 is also used to log non-student users after successfull SMS/Email authentication.\n",
        "<br>\n",
        "<br>"
      ]
    },
    {
      "cell_type": "markdown",
      "metadata": {
        "id": "BG7A2qLyuWGU"
      },
      "source": [
        "Config\n"
      ]
    },
    {
      "cell_type": "code",
      "metadata": {
        "id": "qV8R-NCBn-l9"
      },
      "source": [
        "#Path to google drive folder (mount google drive in colab first)\n",
        "DRIVE_LINK = \"drive/MyDrive/.../.../Demo1/*\"\n",
        "\n",
        "#Relative paths to students and general trained rasa models\n",
        "STUDENT_MODEL_PATH = \"models/students.gz\"\n",
        "GENERAL_MODEL_PATH = \"models/general.gz\"\n",
        "\n",
        "#Port numbers for auth and rasa servers\n",
        "AUTH_SERVER_PORT   = 5000 \n",
        "STUDENT_MODEL_PORT = 5005\n",
        "GENERAL_MODEL_PORT = 5006\n",
        "\n",
        "#AuthKey for ngrok (To get one signup at https://ngrok.com)\n",
        "NGROK_AUTH = \"xxxxxxxxxxxxxxxxxxxxxxxxxxxxxxxxxxxxxxxxxxxxxxxxxx\"\n",
        "\n",
        "#Personal access token for github \n",
        "GITHUBAUTH = \"xxxxxxxxxxxxxxxxxxxxxxxxxxxxxxxxxxxxxxxxx\"\n",
        "\n",
        "#Repo containing the master url\n",
        "GITHUBREPO = \"<Username>/<Repo Name>\"\n",
        "\n",
        "#Relative path of master url with the repo\n",
        "GITJSONLOC = \"path/../../urls.json\"\n",
        "\n",
        "#Git commit message\n",
        "GIT_COMMIT_MSG = \"Updated json\""
      ],
      "execution_count": null,
      "outputs": []
    },
    {
      "cell_type": "markdown",
      "metadata": {
        "id": "LQ_ikHi9lD4d"
      },
      "source": [
        "Installing Rasa, bottle and PyGithub"
      ]
    },
    {
      "cell_type": "code",
      "metadata": {
        "collapsed": true,
        "id": "NscowXQUFj20"
      },
      "source": [
        "!pip install -U rasa \n",
        "!pip install PyGithub\n",
        "!pip install bottle"
      ],
      "execution_count": null,
      "outputs": []
    },
    {
      "cell_type": "markdown",
      "metadata": {
        "id": "HdrvlIjMiNK5"
      },
      "source": [
        "Copy files from google drive folder into the current working directory"
      ]
    },
    {
      "cell_type": "code",
      "metadata": {
        "id": "95wdJB-Z-Gka"
      },
      "source": [
        "%cp -R $DRIVE_LINK ."
      ],
      "execution_count": null,
      "outputs": []
    },
    {
      "cell_type": "markdown",
      "metadata": {
        "id": "BL_EGRjguccq"
      },
      "source": [
        "Install ngrok"
      ]
    },
    {
      "cell_type": "code",
      "metadata": {
        "id": "g9sYFByZ7CTP"
      },
      "source": [
        "!wget https://bin.equinox.io/c/4VmDzA7iaHb/ngrok-stable-linux-amd64.zip\n",
        "!unzip ngrok-stable-linux-amd64.zip"
      ],
      "execution_count": null,
      "outputs": []
    },
    {
      "cell_type": "markdown",
      "metadata": {
        "id": "2D_55k-kuoHg"
      },
      "source": [
        "Generate ngrok yaml config"
      ]
    },
    {
      "cell_type": "code",
      "metadata": {
        "id": "JIMd5-btr0kQ"
      },
      "source": [
        "import yaml\n",
        "\n",
        "data = dict(\n",
        "    authtoken = NGROK_AUTH,\n",
        "    tunnels = dict(\n",
        "        general = dict(\n",
        "            addr = GENERAL_MODEL_PORT,\n",
        "            proto = 'http',\n",
        "            bind_tls = True\n",
        "        ),\n",
        "        students = dict(\n",
        "            addr = STUDENT_MODEL_PORT,\n",
        "            proto = 'http',\n",
        "            bind_tls = True\n",
        "        ),\n",
        "        seraph = dict(\n",
        "            addr = AUTH_SERVER_PORT,\n",
        "            proto = 'http',\n",
        "            bind_tls = True\n",
        "        )\n",
        "    )\n",
        ")\n",
        "\n",
        "with open('ngrok.yml', 'w') as outfile:\n",
        "    yaml.dump(data, outfile, default_flow_style=False)"
      ],
      "execution_count": null,
      "outputs": []
    },
    {
      "cell_type": "markdown",
      "metadata": {
        "id": "bd5XOtDwCgjh"
      },
      "source": [
        "Generate server.py code"
      ]
    },
    {
      "cell_type": "code",
      "metadata": {
        "colab": {
          "base_uri": "https://localhost:8080/"
        },
        "id": "fW4t_cbplkSW",
        "outputId": "063e7bf9-d72b-4b35-d6a5-91101c30959f"
      },
      "source": [
        "%%writefile server.py\n",
        "from bottle import route, run, request, response\n",
        "import sqlite3\n",
        "import json\n",
        "import datetime\n",
        "\n",
        "con = sqlite3.connect('sqlite.db')\n",
        "cur = con.cursor()\n",
        "\n",
        "gon = sqlite3.connect('guests.db')\n",
        "gur = gon.cursor()\n",
        "\n",
        "@route('/')\n",
        "def hello():\n",
        "    id = request.query.id\n",
        "    password = request.query.password\n",
        "    cur.execute(\"SELECT * FROM seraph_db WHERE id=?\",[id])\n",
        "    result = cur.fetchone()\n",
        "    response.headers['Content-Type'] = 'application/json'\n",
        "    response.set_header('Access-Control-Allow-Origin', '*')\n",
        "    response.add_header('Access-Control-Allow-Methods', 'GET, POST, PUT, OPTIONS')\n",
        "    if result is not None:\n",
        "       if(result[1]==password):\n",
        "          return json.dumps({'stat':1})\n",
        "       else:\n",
        "          return json.dumps({'stat':0})\n",
        "    else:\n",
        "       return json.dumps({'stat':0})\n",
        "\n",
        "\n",
        "@route('/guest')\n",
        "def guest():\n",
        "  name = request.query.name\n",
        "  phone = request.query.phone\n",
        "  gur.execute(\"INSERT INTO guests VALUES(?,?,?)\",[name,phone,datetime.datetime.now()])\n",
        "  gon.commit()\n",
        "  return str(1)\n",
        "\n",
        "run(host='localhost', port=5000, debug=True)\n",
        "con.close()\n",
        "gon.close()"
      ],
      "execution_count": null,
      "outputs": [
        {
          "output_type": "stream",
          "name": "stdout",
          "text": [
            "Writing server.py\n"
          ]
        }
      ]
    },
    {
      "cell_type": "markdown",
      "metadata": {
        "id": "wn9bmCBLywQj"
      },
      "source": [
        "Start server"
      ]
    },
    {
      "cell_type": "code",
      "metadata": {
        "id": "Rufi4puz-Kn1"
      },
      "source": [
        "#start ngrok tunneling on configured ports\n",
        "!nohup ./ngrok start -config ngrok.yml --all &\n",
        "\n",
        "#start auth server\n",
        "!nohup python server.py &\n",
        "\n",
        "#rasa server\n",
        "!nohup rasa run --model $GENERAL_MODEL_PATH --enable-api --cors \"*\" --port $GENERAL_MODEL_PORT &\n",
        "!nohup rasa run --model $STUDENT_MODEL_PATH --enable-api --cors \"*\" --port $STUDENT_MODEL_PORT &"
      ],
      "execution_count": null,
      "outputs": []
    },
    {
      "cell_type": "markdown",
      "metadata": {
        "id": "S5nXmFQQzA4T"
      },
      "source": [
        "Check if process is running"
      ]
    },
    {
      "cell_type": "code",
      "metadata": {
        "id": "zj-FY9izX4Bt"
      },
      "source": [
        "!ps -e -f"
      ],
      "execution_count": null,
      "outputs": []
    },
    {
      "cell_type": "markdown",
      "metadata": {
        "id": "k-tHHmoSk_LK"
      },
      "source": [
        "Keep note of the PID's of the below shown processes inorder to kill the process and restart the server incase of any errors \n",
        "<pre>\n",
        "Example: \n",
        "            + ---- +                                  + ---------------------------- +\n",
        "root        | 401  |     1  0 06:56 ?        00:00:18 | ./ngrok start -config ngrok. |\n",
        "root        | 410  |     1  0 06:56 ?        00:00:01 | python3 server.py            |\n",
        "root        | 418  |     1  0 06:56 ?        00:00:26 | /usr/bin/python3 /usr/local/ |\n",
        "root        | 423  |     1  0 06:56 ?        00:00:26 | /usr/bin/python3 /usr/local/ |\n",
        "            + ---- +                                  + ---------------------------- +\n",
        "                ↑                                              ↑\n",
        "            Example PID                                     Commands\n",
        "</pre>\n",
        "\n",
        "Having these 4 commands running helps to verify that all is fine. If any of these are defunct, check autogenerated (nohup.out) file to know more about the error produced "
      ]
    },
    {
      "cell_type": "markdown",
      "metadata": {
        "id": "jCrRjSHj9nMo"
      },
      "source": [
        "To kill the process if needed"
      ]
    },
    {
      "cell_type": "code",
      "metadata": {
        "id": "QF2vorlzYW1V"
      },
      "source": [
        "# !kill -9 <PID1> <PID2> ... \n",
        "# Uncomment line 1 and replace <PID> with respective PID values to kill the process"
      ],
      "execution_count": null,
      "outputs": []
    },
    {
      "cell_type": "markdown",
      "metadata": {
        "id": "tTyQehFY9r6V"
      },
      "source": [
        "Save ngrok urls for each port (auth server, student model, general model) into a json"
      ]
    },
    {
      "cell_type": "code",
      "metadata": {
        "id": "fOeKuuK2-Sw2"
      },
      "source": [
        "!curl localhost:4040/api/tunnels > ngrok.json"
      ],
      "execution_count": null,
      "outputs": []
    },
    {
      "cell_type": "markdown",
      "metadata": {
        "id": "earuzwU49-SK"
      },
      "source": [
        "Visualize ngrok.json"
      ]
    },
    {
      "cell_type": "code",
      "metadata": {
        "id": "BUF79a__gHoE"
      },
      "source": [
        "from requests import get, models\n",
        "import json\n",
        "from IPython.display import HTML\n",
        "\n",
        "render_template = \"\"\"\n",
        "<script src=\"https://rawgit.com/caldwell/renderjson/master/renderjson.js\"></script>\n",
        "<script>\n",
        "renderjson.set_show_to_level(1)\n",
        "document.body.appendChild(renderjson(%s))\n",
        "new ResizeObserver(google.colab.output.resizeIframeToContent).observe(document.body)\n",
        "</script>\n",
        "\"\"\"\n",
        "models.Response._repr_html_ = lambda rsp: render_template % rsp.text\n",
        "\n",
        "def render(jsondict):\n",
        "  return HTML(render_template % json.dumps(jsondict))\n",
        "\n",
        "\n",
        "render(json.load(open(\"ngrok.json\")))"
      ],
      "execution_count": null,
      "outputs": []
    },
    {
      "cell_type": "markdown",
      "metadata": {
        "id": "kVEr-78WAwFv"
      },
      "source": [
        "Initialize indexes"
      ]
    },
    {
      "cell_type": "code",
      "metadata": {
        "colab": {
          "base_uri": "https://localhost:8080/"
        },
        "id": "sYzaWjL5Zdoe",
        "outputId": "f022ecc1-c6e4-486c-8ee2-89fa12126b52"
      },
      "source": [
        "SERAPH_INDEX  = 0\n",
        "STUDENT_INDEX = 1\n",
        "GENERAL_INDEX = 2\n",
        "\n",
        "for i in range(3):\n",
        "  a = json.load(open(\"ngrok.json\"))[\"tunnels\"][i][\"name\"]\n",
        "  if(a == \"general\"):\n",
        "    GENERAL_INDEX = i\n",
        "  elif(a == \"students\"):\n",
        "    STUDENT_INDEX = i\n",
        "  elif(a == \"seraph\"):\n",
        "    SERAPH_INDEX = i\n",
        "\n",
        "print(\"SERAPH_INDEX   : \", SERAPH_INDEX)\n",
        "print(\"GENERAL_INDEX  : \", STUDENT_INDEX)\n",
        "print(\"STUDENT_INDEX  : \", GENERAL_INDEX)"
      ],
      "execution_count": null,
      "outputs": [
        {
          "output_type": "stream",
          "name": "stdout",
          "text": [
            "SERAPH_INDEX   :  0\n",
            "GENERAL_INDEX  :  2\n",
            "STUDENT_INDEX  :  1\n"
          ]
        }
      ]
    },
    {
      "cell_type": "markdown",
      "metadata": {
        "id": "icPw2zn2AzkC"
      },
      "source": [
        "Update in Github"
      ]
    },
    {
      "cell_type": "code",
      "metadata": {
        "id": "UnZaVBHnlEf7",
        "colab": {
          "base_uri": "https://localhost:8080/"
        },
        "outputId": "65f22b21-8d36-47f8-8cd5-029ad3336834"
      },
      "source": [
        "from github import Github\n",
        "import json\n",
        "from datetime import datetime as dt\n",
        "\n",
        "g = Github(GITHUBAUTH)\n",
        "repo = g.get_repo(GITHUBREPO)\n",
        "file = repo.get_contents(GITJSONLOC)\n",
        "data = json.loads(file.decoded_content.decode(\"utf-8\"))\n",
        "\n",
        "data[\"url1\"] = json.load(open(\"ngrok.json\"))[\"tunnels\"][GENERAL_INDEX][\"public_url\"]\n",
        "data[\"url2\"] = json.load(open(\"ngrok.json\"))[\"tunnels\"][STUDENT_INDEX][\"public_url\"]\n",
        "data[\"url3\"] = json.load(open(\"ngrok.json\"))[\"tunnels\"][SERAPH_INDEX][\"public_url\"]\n",
        "\n",
        "repo.update_file(file.path, GIT_COMMIT_MSG + \" at \" + str(dt.now()) , json.dumps(data) , file.sha)"
      ],
      "execution_count": null,
      "outputs": [
        {
          "output_type": "execute_result",
          "data": {
            "text/plain": [
              "{'commit': Commit(sha=\"7b363dc4e305f0633f7877276ea69995a8d2542e\"),\n",
              " 'content': ContentFile(path=\"hosted/urls.json\")}"
            ]
          },
          "metadata": {},
          "execution_count": 15
        }
      ]
    },
    {
      "cell_type": "markdown",
      "metadata": {
        "id": "7Yer_i8DA3FD"
      },
      "source": [
        "Check if update is successful"
      ]
    },
    {
      "cell_type": "code",
      "metadata": {
        "colab": {
          "base_uri": "https://localhost:8080/"
        },
        "id": "hyy_YOKPp6-p",
        "outputId": "2ecbd4fa-ab14-4267-efd0-eaa89394f6d0"
      },
      "source": [
        "file = repo.get_contents(GITJSONLOC)\n",
        "file.decoded_content"
      ],
      "execution_count": null,
      "outputs": [
        {
          "output_type": "execute_result",
          "data": {
            "text/plain": [
              "b'{\"url1\": \"https://3517-34-105-62-241.ngrok.io\", \"url2\": \"https://ac22-34-105-62-241.ngrok.io\", \"url3\": \"https://8a55-34-105-62-241.ngrok.io\"}'"
            ]
          },
          "metadata": {},
          "execution_count": 16
        }
      ]
    },
    {
      "cell_type": "markdown",
      "metadata": {
        "id": "D1sl9Iosa-g0"
      },
      "source": [
        "Misc"
      ]
    },
    {
      "cell_type": "code",
      "metadata": {
        "id": "URDaaOlfa_8W"
      },
      "source": [
        "#Get list of guests visited\n",
        "\n",
        "import sqlite3\n",
        "\n",
        "guests = sqlite3.connect('guests.db')\n",
        "guest_cursor = guests.cursor()\n",
        "\n",
        "for row in guest_cursor.execute('SELECT * FROM guests'):\n",
        "        print(row)"
      ],
      "execution_count": null,
      "outputs": []
    },
    {
      "cell_type": "code",
      "metadata": {
        "id": "Wx-TcW7VbKRf"
      },
      "source": [
        "#Get list of students registered\n",
        "\n",
        "import sqlite3\n",
        "\n",
        "students = sqlite3.connect('sqlite.db')\n",
        "student_cursor = students.cursor()\n",
        "\n",
        "for row in student_cursor.execute('SELECT * FROM seraph_db'):\n",
        "        print(row)"
      ],
      "execution_count": null,
      "outputs": []
    }
  ]
}